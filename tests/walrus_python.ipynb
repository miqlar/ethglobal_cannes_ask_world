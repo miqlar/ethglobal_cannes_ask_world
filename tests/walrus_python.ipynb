{
 "cells": [
  {
   "cell_type": "code",
   "execution_count": 1,
   "id": "d7083ea1-2299-4dc5-a2e8-df87e7c5dd5f",
   "metadata": {},
   "outputs": [
    {
     "name": "stdout",
     "output_type": "stream",
     "text": [
      "Collecting walrus-python\n",
      "  Downloading walrus_python-0.1.0-py3-none-any.whl.metadata (3.2 kB)\n",
      "Requirement already satisfied: requests>=2.0.0 in /Users/miquel/.pyenv/versions/env_ethglobal/lib/python3.13/site-packages (from walrus-python) (2.32.4)\n",
      "Requirement already satisfied: charset_normalizer<4,>=2 in /Users/miquel/.pyenv/versions/env_ethglobal/lib/python3.13/site-packages (from requests>=2.0.0->walrus-python) (3.4.2)\n",
      "Requirement already satisfied: idna<4,>=2.5 in /Users/miquel/.pyenv/versions/env_ethglobal/lib/python3.13/site-packages (from requests>=2.0.0->walrus-python) (3.10)\n",
      "Requirement already satisfied: urllib3<3,>=1.21.1 in /Users/miquel/.pyenv/versions/env_ethglobal/lib/python3.13/site-packages (from requests>=2.0.0->walrus-python) (2.5.0)\n",
      "Requirement already satisfied: certifi>=2017.4.17 in /Users/miquel/.pyenv/versions/env_ethglobal/lib/python3.13/site-packages (from requests>=2.0.0->walrus-python) (2025.6.15)\n",
      "Downloading walrus_python-0.1.0-py3-none-any.whl (5.9 kB)\n",
      "Installing collected packages: walrus-python\n",
      "Successfully installed walrus-python-0.1.0\n",
      "\n",
      "\u001b[1m[\u001b[0m\u001b[34;49mnotice\u001b[0m\u001b[1;39;49m]\u001b[0m\u001b[39;49m A new release of pip is available: \u001b[0m\u001b[31;49m24.3.1\u001b[0m\u001b[39;49m -> \u001b[0m\u001b[32;49m25.1.1\u001b[0m\n",
      "\u001b[1m[\u001b[0m\u001b[34;49mnotice\u001b[0m\u001b[1;39;49m]\u001b[0m\u001b[39;49m To update, run: \u001b[0m\u001b[32;49m/Users/miquel/.pyenv/versions/env_ethglobal/bin/python -m pip install --upgrade pip\u001b[0m\n",
      "Note: you may need to restart the kernel to use updated packages.\n"
     ]
    }
   ],
   "source": [
    "pip install walrus-python\n"
   ]
  },
  {
   "cell_type": "code",
   "execution_count": 1,
   "id": "e627d76c-2b02-49ea-97c2-3476d36b45fb",
   "metadata": {},
   "outputs": [],
   "source": [
    "from walrus import WalrusClient\n",
    "\n",
    "publisher_url = \"https://publisher.walrus-testnet.walrus.space\"\n",
    "aggregator_url = \"https://aggregator.walrus-testnet.walrus.space\"\n",
    "\n",
    "client = WalrusClient(publisher_base_url=publisher_url, aggregator_base_url=aggregator_url)"
   ]
  },
  {
   "cell_type": "markdown",
   "id": "481f9945-81ca-42ea-9fc5-3ed5b6f86811",
   "metadata": {},
   "source": [
    "## String"
   ]
  },
  {
   "cell_type": "code",
   "execution_count": 2,
   "id": "ca5bd796-6eaf-4ac2-80f7-fc6130d5f164",
   "metadata": {},
   "outputs": [
    {
     "name": "stdout",
     "output_type": "stream",
     "text": [
      "{'newlyCreated': {'blobObject': {'id': '0x0a6f97709d4e73ac3f05ec2671f6f3c11743e75be5f11300bcc0da8db282383c', 'registeredEpoch': 94, 'blobId': 'ZRI86yFbBJUIfCcq5hCnuDg_gZMT8BKdDYda4qJYZm4', 'size': 964, 'encodingType': 'RS2', 'certifiedEpoch': None, 'storage': {'id': '0xc1f6de1bf38572486d33c7a0e49df1e6391686b72732f72d9d9375bc83dc0172', 'startEpoch': 94, 'endEpoch': 95, 'storageSize': 66034000}, 'deletable': False}, 'resourceOperation': {'registerFromScratch': {'encodedLength': 66034000, 'epochsAhead': 1}}, 'cost': 11025000}}\n"
     ]
    }
   ],
   "source": [
    "blob_data = b\"\"\"The primary theme across the provided answer is the recommendation of a 4x4 vehicle for mountain driving, with a specific mention of a Jeep as an ideal choice. The main reason cited for this preference is the vehicle's capability to handle challenging conditions such as snow, which is common in mountainous areas. This suggests that traction and stability are key considerations when selecting a car for mountain terrain. The emphasis on a 4x4 vehicle highlights the importance of all-wheel drive systems in providing the necessary power and control to navigate steep and potentially slippery roads. There are no alternative perspectives or differing opinions provided in the transcription, making the recommendation for a 4x4 vehicle the sole focus. Overall, the collective wisdom suggests that for mountain driving, a 4x4 vehicle like a Jeep is favored for its ability to manage adverse weather conditions and maintain safety and performance on rugged terrain.!\"\"\"\n",
    "response = client.put_blob(data=blob_data)\n",
    "print(response)"
   ]
  },
  {
   "cell_type": "code",
   "execution_count": null,
   "id": "47f68197-8d98-4bf1-b3cb-c201a2d3b424",
   "metadata": {},
   "outputs": [],
   "source": []
  },
  {
   "cell_type": "code",
   "execution_count": 7,
   "id": "6d4c6acd-9e80-469b-9181-432135e8b8a7",
   "metadata": {},
   "outputs": [],
   "source": [
    "# Works!!\n",
    "\n",
    "# https://walruscan.com/testnet/blob/YZOQAAdfZ8YIb3FDp_2_yDm2Lf7oDH81F-W5tiWcWaI"
   ]
  },
  {
   "cell_type": "markdown",
   "id": "dbb536b2-8521-4359-a148-c62e718ab153",
   "metadata": {},
   "source": [
    "## Audio file"
   ]
  },
  {
   "cell_type": "code",
   "execution_count": 9,
   "id": "4a5226f3-bb3b-4bde-80df-fa3073da1fd6",
   "metadata": {},
   "outputs": [
    {
     "name": "stdout",
     "output_type": "stream",
     "text": [
      "{'newlyCreated': {'blobObject': {'id': '0x2a5e30d861f838fe0db6588302c1fe07dd277870e84a937d3c91c8bedd86237c', 'registeredEpoch': 93, 'blobId': 'Y3XBOEfW77JAon9Kl-pRDy0kRWTgqjxzjYEv0yMfO24', 'size': 453312, 'encodingType': 'RS2', 'certifiedEpoch': None, 'storage': {'id': '0x68f452c8b182b1fdbcd19dea5ed5c93a6e8ada6dd78df7c23c5ec09c3a9f490d', 'startEpoch': 93, 'endEpoch': 94, 'storageSize': 68036000}, 'deletable': False}, 'resourceOperation': {'registerFromScratch': {'encodedLength': 68036000, 'epochsAhead': 1}}, 'cost': 11375000}}\n"
     ]
    }
   ],
   "source": [
    "file_path = \"adam.mp3\"\n",
    "response = client.put_blob_from_file(file_path)\n",
    "print(response)"
   ]
  },
  {
   "cell_type": "code",
   "execution_count": null,
   "id": "6b6115da-b515-4399-a70b-10f14151aa37",
   "metadata": {},
   "outputs": [],
   "source": [
    "# https://walruscan.com/testnet/blob/Y3XBOEfW77JAon9Kl-pRDy0kRWTgqjxzjYEv0yMfO24"
   ]
  },
  {
   "cell_type": "markdown",
   "id": "1f581be9-0edc-448d-afad-8ff8f9fa0e45",
   "metadata": {},
   "source": [
    "### Test fetching"
   ]
  },
  {
   "cell_type": "code",
   "execution_count": 15,
   "id": "cce811f1-15af-4bfa-a166-2cf3ffa81f24",
   "metadata": {},
   "outputs": [
    {
     "name": "stdout",
     "output_type": "stream",
     "text": [
      "Blob saved to downloaded_blob.mp3\n"
     ]
    }
   ],
   "source": [
    "blob_id = response['newlyCreated']['blobObject']['blobId']\n",
    "destination_path = \"downloaded_blob.mp3\"\n",
    "client.get_blob_as_file(blob_id, destination_path)\n",
    "print(f\"Blob saved to {destination_path}\")"
   ]
  },
  {
   "cell_type": "code",
   "execution_count": null,
   "id": "5ae4efb8-8668-4537-b44b-feadb72c7eeb",
   "metadata": {},
   "outputs": [],
   "source": [
    "application/octet-stream"
   ]
  },
  {
   "cell_type": "code",
   "execution_count": null,
   "id": "7e7dc3f8-c516-46e5-b49f-02587a3bc62a",
   "metadata": {},
   "outputs": [],
   "source": []
  },
  {
   "cell_type": "code",
   "execution_count": 3,
   "id": "d4166c98-7d69-4d33-b3e2-3510d00bb055",
   "metadata": {},
   "outputs": [],
   "source": [
    "destination_path = \"testtest.mp3\"\n",
    "client.get_blob_as_file('4X1Iz22VLkpqKGZkvs7QN_g1Td_KmPoyepl4yQHVPAE', destination_path)"
   ]
  },
  {
   "cell_type": "code",
   "execution_count": null,
   "id": "acd9a290-1c95-4791-b36c-52f7b2921e24",
   "metadata": {},
   "outputs": [],
   "source": []
  }
 ],
 "metadata": {
  "kernelspec": {
   "display_name": "env_ethglobal",
   "language": "python",
   "name": "jupyter-env"
  },
  "language_info": {
   "codemirror_mode": {
    "name": "ipython",
    "version": 3
   },
   "file_extension": ".py",
   "mimetype": "text/x-python",
   "name": "python",
   "nbconvert_exporter": "python",
   "pygments_lexer": "ipython3",
   "version": "3.13.2"
  }
 },
 "nbformat": 4,
 "nbformat_minor": 5
}
